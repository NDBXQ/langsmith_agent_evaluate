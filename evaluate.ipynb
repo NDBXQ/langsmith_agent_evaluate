{
 "cells": [
  {
   "cell_type": "code",
   "execution_count": 1,
   "metadata": {},
   "outputs": [],
   "source": [
    "import os\n",
    "os.environ['LANGCHAIN_TRACING_V2'] = 'true' # enables tracing \n",
    "os.environ['LANGCHAIN_API_KEY'] = \"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\"\n",
    "os.environ['LANGCHAIN_PROJECT'] = 'XBZ'"
   ]
  },
  {
   "cell_type": "code",
   "execution_count": 2,
   "metadata": {},
   "outputs": [],
   "source": [
    "from langsmith import Client\n",
    "client = Client()\n",
    "dataset_name = \"xbz\"\n",
    "from dify_agent import Agent\n",
    "agent = Agent(api_key=\"app-Deq3fPPlVLHDTAAi4sXqx1Qg\")"
   ]
  },
  {
   "cell_type": "code",
   "execution_count": 3,
   "metadata": {},
   "outputs": [],
   "source": [
    "# Mistral\n",
    "\n",
    "from langsmith.run_helpers import traceable\n",
    "import json\n",
    "\n",
    "@traceable(run_type=\"llm\")\n",
    "def call_dify_agent(messages):\n",
    "    response = agent.ask(messages, inputs={\"brand\":\"长安\",\"type\":\"神骐-ES6F9\"})\n",
    "    return response\n"
   ]
  },
  {
   "cell_type": "code",
   "execution_count": 4,
   "metadata": {},
   "outputs": [],
   "source": [
    "def answer_xbz_question_dify_agent(inputs: dict) -> dict:\n",
    "    \"\"\"\n",
    "    Generates answers to user questions based on a provided website text using Ollama serving Mistral locally.\n",
    "\n",
    "    Parameters:\n",
    "    inputs (dict): A dictionary with a single key 'question', representing the user's question as a string.\n",
    "\n",
    "    Returns:\n",
    "    dict: A dictionary with a single key 'output', containing the generated answer as a string.\n",
    "    \"\"\"\n",
    "    messages = inputs[\"question\"]\n",
    "\n",
    "    # Call dify\n",
    "    response = call_dify_agent(messages)\n",
    "\n",
    "    # Response in output dict\n",
    "    return {\"answer\": response} "
   ]
  },
  {
   "cell_type": "code",
   "execution_count": 5,
   "metadata": {},
   "outputs": [
    {
     "name": "stderr",
     "output_type": "stream",
     "text": [
      "/home/advance/miniconda3/envs/langsmith/lib/python3.9/site-packages/tqdm/auto.py:21: TqdmWarning: IProgress not found. Please update jupyter and ipywidgets. See https://ipywidgets.readthedocs.io/en/stable/user_install.html\n",
      "  from .autonotebook import tqdm as notebook_tqdm\n"
     ]
    },
    {
     "name": "stdout",
     "output_type": "stream",
     "text": [
      "View the evaluation results for experiment: 'xbz-1-6aa43a70' at:\n",
      "https://smith.langchain.com/o/f3ff556a-d9d4-558c-95f1-bd53020436c5/datasets/d6866c0e-1cb6-4287-ac20-c7a38e48f1f6/compare?selectedSessions=10369c8b-49c3-45e0-9d33-ebbf449afe0a\n",
      "\n",
      "\n"
     ]
    },
    {
     "name": "stderr",
     "output_type": "stream",
     "text": [
      "0it [00:00, ?it/s]Error running target function: {'event': 'error', 'conversation_id': '5d61336f-3a8e-4adc-ae20-e57bd75774a8', 'message_id': '5a602b1a-289e-4571-b548-7f8d02992223', 'created_at': 1722505471, 'code': 'invalid_param', 'status': 400, 'message': 'Run failed: Node 处理分类 run failed: Traceback (most recent call last):\\n  File \"/tmp/code/3a15d37b_d4aa_4e61_a483_b86612607dd7.py\", line 15, in <module>\\n    lib = ctypes.CDLL(\"./var/sandbox/sandbox-python/python.so\")\\n  File \"/usr/local/lib/python3.10/ctypes/__init__.py\", line 374, in __init__\\n    self._handle = _dlopen(self._name, mode)\\nOSError: ./var/sandbox/sandbox-python/python.so: cannot open shared object file: No such file or directory\\nerror: exit status 255\\n'}\n",
      "Error running evaluator <DynamicRunEvaluator criteria_evaluator> on run c4d77d5e-c910-4dd5-ad7a-a93c28db4f37: KeyError('answer')\n",
      "Traceback (most recent call last):\n",
      "  File \"/home/advance/miniconda3/envs/langsmith/lib/python3.9/site-packages/langsmith/evaluation/_runner.py\", line 1233, in _run_evaluators\n",
      "    evaluator_response = evaluator.evaluate_run(\n",
      "  File \"/home/advance/miniconda3/envs/langsmith/lib/python3.9/site-packages/langsmith/evaluation/evaluator.py\", line 278, in evaluate_run\n",
      "    result = self.func(\n",
      "  File \"/home/advance/miniconda3/envs/langsmith/lib/python3.9/site-packages/langsmith/run_helpers.py\", line 568, in wrapper\n",
      "    raise e\n",
      "  File \"/home/advance/miniconda3/envs/langsmith/lib/python3.9/site-packages/langsmith/run_helpers.py\", line 565, in wrapper\n",
      "    function_result = run_container[\"context\"].run(func, *args, **kwargs)\n",
      "  File \"/home/advance/dev/langsmith/evaluators.py\", line 47, in criteria_evaluator\n",
      "    result = run.outputs[\"answer\"]\n",
      "KeyError: 'answer'\n",
      "1it [01:48, 108.89s/it]"
     ]
    },
    {
     "name": "stdout",
     "output_type": "stream",
     "text": [
      "评估器打分：：：： 1\n"
     ]
    },
    {
     "name": "stderr",
     "output_type": "stream",
     "text": [
      "2it [01:54, 48.11s/it] "
     ]
    },
    {
     "name": "stdout",
     "output_type": "stream",
     "text": [
      "评估器打分：：：： 1\n",
      "评估器打分：：：： 5\n",
      "评估器打分：：：： 6\n",
      "评估器打分：：：： 8\n"
     ]
    },
    {
     "name": "stderr",
     "output_type": "stream",
     "text": [
      "3it [01:55, 26.64s/it]Error running evaluator <DynamicRunEvaluator criteria_evaluator> on run 6d4805d0-522e-4482-b2b7-fb50382ce247: Exception({'event': 'error', 'conversation_id': 'd61ffd1f-ea7e-40c0-bde6-41d8646aa571', 'message_id': 'a0cd799f-efdd-479d-bdcd-3e3c9f5110af', 'created_at': 1722505579, 'code': 'invalid_param', 'status': 400, 'message': 'Run failed: Node evaluator run failed: [tongyi] Server Unavailable Error, Failed to invoke model qwen-plus, status code: 429, message: id:1\\nevent:error\\n:HTTP_STATUS/429 TOO_MANY_REQUESTS\\ndata:{\"code\":\"Throttling.RateQuota\",\"message\":\"Requests rate limit exceeded, please try again later.\",\"request_id\":\"a0376637-0bb4-916e-8ae2-42c6664bf7b2\"}\\n\\n'})\n",
      "Traceback (most recent call last):\n",
      "  File \"/home/advance/miniconda3/envs/langsmith/lib/python3.9/site-packages/langsmith/evaluation/_runner.py\", line 1233, in _run_evaluators\n",
      "    evaluator_response = evaluator.evaluate_run(\n",
      "  File \"/home/advance/miniconda3/envs/langsmith/lib/python3.9/site-packages/langsmith/evaluation/evaluator.py\", line 278, in evaluate_run\n",
      "    result = self.func(\n",
      "  File \"/home/advance/miniconda3/envs/langsmith/lib/python3.9/site-packages/langsmith/run_helpers.py\", line 568, in wrapper\n",
      "    raise e\n",
      "  File \"/home/advance/miniconda3/envs/langsmith/lib/python3.9/site-packages/langsmith/run_helpers.py\", line 565, in wrapper\n",
      "    function_result = run_container[\"context\"].run(func, *args, **kwargs)\n",
      "  File \"/home/advance/dev/langsmith/evaluators.py\", line 50, in criteria_evaluator\n",
      "    score =llm.ask(system_template)\n",
      "  File \"/home/advance/dev/langsmith/dify_llm.py\", line 93, in ask\n",
      "    return self.handle_sse_response(response)\n",
      "  File \"/home/advance/dev/langsmith/dify_llm.py\", line 82, in handle_sse_response\n",
      "    raise Exception(event)\n",
      "Exception: {'event': 'error', 'conversation_id': 'd61ffd1f-ea7e-40c0-bde6-41d8646aa571', 'message_id': 'a0cd799f-efdd-479d-bdcd-3e3c9f5110af', 'created_at': 1722505579, 'code': 'invalid_param', 'status': 400, 'message': 'Run failed: Node evaluator run failed: [tongyi] Server Unavailable Error, Failed to invoke model qwen-plus, status code: 429, message: id:1\\nevent:error\\n:HTTP_STATUS/429 TOO_MANY_REQUESTS\\ndata:{\"code\":\"Throttling.RateQuota\",\"message\":\"Requests rate limit exceeded, please try again later.\",\"request_id\":\"a0376637-0bb4-916e-8ae2-42c6664bf7b2\"}\\n\\n'}\n",
      "4it [01:55, 16.27s/it]"
     ]
    },
    {
     "name": "stdout",
     "output_type": "stream",
     "text": [
      "评估器打分：：：： 6\n",
      "评估器打分：：：： 8\n"
     ]
    },
    {
     "name": "stderr",
     "output_type": "stream",
     "text": [
      "5it [01:56, 10.47s/it]"
     ]
    },
    {
     "name": "stdout",
     "output_type": "stream",
     "text": [
      "评估器打分：：：： 3\n",
      "评估器打分：：：： 8\n",
      "评估器打分：：：： 7\n"
     ]
    },
    {
     "name": "stderr",
     "output_type": "stream",
     "text": [
      "6it [01:56,  7.04s/it]Error running evaluator <DynamicRunEvaluator criteria_evaluator> on run c10446de-27c2-474e-9ad2-6bd065f73da7: Exception({'event': 'error', 'conversation_id': '447d04aa-a655-4831-aa6a-c9dd1700e1ac', 'message_id': 'aad815fd-0846-414f-b193-3393bd8daafb', 'created_at': 1722505578, 'code': 'invalid_param', 'status': 400, 'message': 'Run failed: Node evaluator run failed: [tongyi] Server Unavailable Error, Failed to invoke model qwen-plus, status code: 429, message: id:1\\nevent:error\\n:HTTP_STATUS/429 TOO_MANY_REQUESTS\\ndata:{\"code\":\"Throttling.RateQuota\",\"message\":\"Requests rate limit exceeded, please try again later.\",\"request_id\":\"328ebd68-ecec-979b-8296-7d759188b130\"}\\n\\n'})\n",
      "Traceback (most recent call last):\n",
      "  File \"/home/advance/miniconda3/envs/langsmith/lib/python3.9/site-packages/langsmith/evaluation/_runner.py\", line 1233, in _run_evaluators\n",
      "    evaluator_response = evaluator.evaluate_run(\n",
      "  File \"/home/advance/miniconda3/envs/langsmith/lib/python3.9/site-packages/langsmith/evaluation/evaluator.py\", line 278, in evaluate_run\n",
      "    result = self.func(\n",
      "  File \"/home/advance/miniconda3/envs/langsmith/lib/python3.9/site-packages/langsmith/run_helpers.py\", line 568, in wrapper\n",
      "    raise e\n",
      "  File \"/home/advance/miniconda3/envs/langsmith/lib/python3.9/site-packages/langsmith/run_helpers.py\", line 565, in wrapper\n",
      "    function_result = run_container[\"context\"].run(func, *args, **kwargs)\n",
      "  File \"/home/advance/dev/langsmith/evaluators.py\", line 50, in criteria_evaluator\n",
      "    score =llm.ask(system_template)\n",
      "  File \"/home/advance/dev/langsmith/dify_llm.py\", line 93, in ask\n",
      "    return self.handle_sse_response(response)\n",
      "  File \"/home/advance/dev/langsmith/dify_llm.py\", line 82, in handle_sse_response\n",
      "    raise Exception(event)\n",
      "Exception: {'event': 'error', 'conversation_id': '447d04aa-a655-4831-aa6a-c9dd1700e1ac', 'message_id': 'aad815fd-0846-414f-b193-3393bd8daafb', 'created_at': 1722505578, 'code': 'invalid_param', 'status': 400, 'message': 'Run failed: Node evaluator run failed: [tongyi] Server Unavailable Error, Failed to invoke model qwen-plus, status code: 429, message: id:1\\nevent:error\\n:HTTP_STATUS/429 TOO_MANY_REQUESTS\\ndata:{\"code\":\"Throttling.RateQuota\",\"message\":\"Requests rate limit exceeded, please try again later.\",\"request_id\":\"328ebd68-ecec-979b-8296-7d759188b130\"}\\n\\n'}\n",
      "Error running evaluator <DynamicRunEvaluator criteria_evaluator> on run 841c73d9-03ae-4915-ad4b-765953a9152b: Exception({'event': 'error', 'conversation_id': '7387c1b3-a328-4108-a37b-a463f7112f2a', 'message_id': 'ae2a9b7e-0d0e-4bcd-b7f6-9ebdb4900397', 'created_at': 1722505579, 'code': 'invalid_param', 'status': 400, 'message': 'Run failed: Node evaluator run failed: [tongyi] Server Unavailable Error, Failed to invoke model qwen-plus, status code: 429, message: id:1\\nevent:error\\n:HTTP_STATUS/429 TOO_MANY_REQUESTS\\ndata:{\"code\":\"Throttling.RateQuota\",\"message\":\"Requests rate limit exceeded, please try again later.\",\"request_id\":\"6acf716f-dc23-9bca-a5f2-873d9f900e4c\"}\\n\\n'})\n",
      "Traceback (most recent call last):\n",
      "  File \"/home/advance/miniconda3/envs/langsmith/lib/python3.9/site-packages/langsmith/evaluation/_runner.py\", line 1233, in _run_evaluators\n",
      "    evaluator_response = evaluator.evaluate_run(\n",
      "  File \"/home/advance/miniconda3/envs/langsmith/lib/python3.9/site-packages/langsmith/evaluation/evaluator.py\", line 278, in evaluate_run\n",
      "    result = self.func(\n",
      "  File \"/home/advance/miniconda3/envs/langsmith/lib/python3.9/site-packages/langsmith/run_helpers.py\", line 568, in wrapper\n",
      "    raise e\n",
      "  File \"/home/advance/miniconda3/envs/langsmith/lib/python3.9/site-packages/langsmith/run_helpers.py\", line 565, in wrapper\n",
      "    function_result = run_container[\"context\"].run(func, *args, **kwargs)\n",
      "  File \"/home/advance/dev/langsmith/evaluators.py\", line 50, in criteria_evaluator\n",
      "    score =llm.ask(system_template)\n",
      "  File \"/home/advance/dev/langsmith/dify_llm.py\", line 93, in ask\n",
      "    return self.handle_sse_response(response)\n",
      "  File \"/home/advance/dev/langsmith/dify_llm.py\", line 82, in handle_sse_response\n",
      "    raise Exception(event)\n",
      "Exception: {'event': 'error', 'conversation_id': '7387c1b3-a328-4108-a37b-a463f7112f2a', 'message_id': 'ae2a9b7e-0d0e-4bcd-b7f6-9ebdb4900397', 'created_at': 1722505579, 'code': 'invalid_param', 'status': 400, 'message': 'Run failed: Node evaluator run failed: [tongyi] Server Unavailable Error, Failed to invoke model qwen-plus, status code: 429, message: id:1\\nevent:error\\n:HTTP_STATUS/429 TOO_MANY_REQUESTS\\ndata:{\"code\":\"Throttling.RateQuota\",\"message\":\"Requests rate limit exceeded, please try again later.\",\"request_id\":\"6acf716f-dc23-9bca-a5f2-873d9f900e4c\"}\\n\\n'}\n",
      "9it [01:56,  2.89s/it]"
     ]
    },
    {
     "name": "stdout",
     "output_type": "stream",
     "text": [
      "评估器打分：：：： 8\n",
      "评估器打分：：：： 6\n",
      "评估器打分：：：： 8\n",
      "评估器打分：：：： 8\n",
      "评估器打分：：：： 3\n"
     ]
    },
    {
     "name": "stderr",
     "output_type": "stream",
     "text": [
      "11it [01:56,  1.89s/it]"
     ]
    },
    {
     "name": "stdout",
     "output_type": "stream",
     "text": [
      "评估器打分：：：： 6\n",
      "评估器打分：：：： 3\n",
      "评估器打分：：：： 1\n"
     ]
    },
    {
     "name": "stderr",
     "output_type": "stream",
     "text": [
      "15it [01:57,  1.17it/s]"
     ]
    },
    {
     "name": "stdout",
     "output_type": "stream",
     "text": [
      "评估器打分：：：： 8\n",
      "评估器打分：：：： 8\n",
      "评估器打分：：：： 5\n",
      "评估器打分：：：： 8\n"
     ]
    },
    {
     "name": "stderr",
     "output_type": "stream",
     "text": [
      "25it [01:58,  3.66it/s]Error running evaluator <DynamicRunEvaluator criteria_evaluator> on run 52b36edd-c0d0-4c8c-b68c-cfaf735403ff: Exception({'event': 'error', 'conversation_id': 'b682955e-ec0e-4bd2-bf94-7432fd738aa3', 'message_id': '3277f207-ce4f-4260-bd25-023f76195d16', 'created_at': 1722505585, 'code': 'invalid_param', 'status': 400, 'message': 'Run failed: Node evaluator run failed: [tongyi] Server Unavailable Error, Failed to invoke model qwen-plus, status code: 429, message: id:1\\nevent:error\\n:HTTP_STATUS/429 TOO_MANY_REQUESTS\\ndata:{\"code\":\"Throttling.RateQuota\",\"message\":\"Requests rate limit exceeded, please try again later.\",\"request_id\":\"42a469d3-19bc-9979-b0b0-3488ed97b31c\"}\\n\\n'})\n",
      "Traceback (most recent call last):\n",
      "  File \"/home/advance/miniconda3/envs/langsmith/lib/python3.9/site-packages/langsmith/evaluation/_runner.py\", line 1233, in _run_evaluators\n",
      "    evaluator_response = evaluator.evaluate_run(\n",
      "  File \"/home/advance/miniconda3/envs/langsmith/lib/python3.9/site-packages/langsmith/evaluation/evaluator.py\", line 278, in evaluate_run\n",
      "    result = self.func(\n",
      "  File \"/home/advance/miniconda3/envs/langsmith/lib/python3.9/site-packages/langsmith/run_helpers.py\", line 568, in wrapper\n",
      "    raise e\n",
      "  File \"/home/advance/miniconda3/envs/langsmith/lib/python3.9/site-packages/langsmith/run_helpers.py\", line 565, in wrapper\n",
      "    function_result = run_container[\"context\"].run(func, *args, **kwargs)\n",
      "  File \"/home/advance/dev/langsmith/evaluators.py\", line 50, in criteria_evaluator\n",
      "    score =llm.ask(system_template)\n",
      "  File \"/home/advance/dev/langsmith/dify_llm.py\", line 93, in ask\n",
      "    return self.handle_sse_response(response)\n",
      "  File \"/home/advance/dev/langsmith/dify_llm.py\", line 82, in handle_sse_response\n",
      "    raise Exception(event)\n",
      "Exception: {'event': 'error', 'conversation_id': 'b682955e-ec0e-4bd2-bf94-7432fd738aa3', 'message_id': '3277f207-ce4f-4260-bd25-023f76195d16', 'created_at': 1722505585, 'code': 'invalid_param', 'status': 400, 'message': 'Run failed: Node evaluator run failed: [tongyi] Server Unavailable Error, Failed to invoke model qwen-plus, status code: 429, message: id:1\\nevent:error\\n:HTTP_STATUS/429 TOO_MANY_REQUESTS\\ndata:{\"code\":\"Throttling.RateQuota\",\"message\":\"Requests rate limit exceeded, please try again later.\",\"request_id\":\"42a469d3-19bc-9979-b0b0-3488ed97b31c\"}\\n\\n'}\n",
      "27it [02:00,  2.17it/s]"
     ]
    },
    {
     "name": "stdout",
     "output_type": "stream",
     "text": [
      "评估器打分：：：： 5\n",
      "评估器打分：：：： 1\n"
     ]
    },
    {
     "name": "stderr",
     "output_type": "stream",
     "text": [
      "28it [02:02,  1.26it/s]"
     ]
    },
    {
     "name": "stdout",
     "output_type": "stream",
     "text": [
      "评估器打分：：：： 6\n",
      "评估器打分：：：： 6\n"
     ]
    },
    {
     "name": "stderr",
     "output_type": "stream",
     "text": [
      "29it [02:03,  1.39it/s]"
     ]
    },
    {
     "name": "stdout",
     "output_type": "stream",
     "text": [
      "评估器打分：：：： 8\n",
      "评估器打分：：：： 8\n",
      "评估器打分：：：： 8\n"
     ]
    },
    {
     "name": "stderr",
     "output_type": "stream",
     "text": [
      "32it [02:04,  2.17it/s]"
     ]
    },
    {
     "name": "stdout",
     "output_type": "stream",
     "text": [
      "评估器打分：：：： 7\n",
      "评估器打分：：：： 3\n",
      "评估器打分：：：： 5\n",
      "评估器打分：：：： 8\n"
     ]
    },
    {
     "name": "stderr",
     "output_type": "stream",
     "text": [
      "38it [02:04,  4.65it/s]"
     ]
    },
    {
     "name": "stdout",
     "output_type": "stream",
     "text": [
      "评估器打分：：：： 3\n"
     ]
    },
    {
     "name": "stderr",
     "output_type": "stream",
     "text": [
      "Error running evaluator <DynamicRunEvaluator criteria_evaluator> on run eb3d310f-ef43-4253-b6af-21f1357cc710: Exception({'event': 'error', 'conversation_id': '8414a82d-870c-4bae-a771-2bb0f3a5f122', 'message_id': 'b0c1f5f5-29dd-455a-9a34-61d7eba317d6', 'created_at': 1722505589, 'code': 'invalid_param', 'status': 400, 'message': 'Run failed: Node evaluator run failed: [tongyi] Server Unavailable Error, Failed to invoke model qwen-plus, status code: 429, message: id:1\\nevent:error\\n:HTTP_STATUS/429 TOO_MANY_REQUESTS\\ndata:{\"code\":\"Throttling.RateQuota\",\"message\":\"Requests rate limit exceeded, please try again later.\",\"request_id\":\"26cbc838-21e6-9d98-8cb8-a1e6b378aab5\"}\\n\\n'})\n",
      "Traceback (most recent call last):\n",
      "  File \"/home/advance/miniconda3/envs/langsmith/lib/python3.9/site-packages/langsmith/evaluation/_runner.py\", line 1233, in _run_evaluators\n",
      "    evaluator_response = evaluator.evaluate_run(\n",
      "  File \"/home/advance/miniconda3/envs/langsmith/lib/python3.9/site-packages/langsmith/evaluation/evaluator.py\", line 278, in evaluate_run\n",
      "    result = self.func(\n",
      "  File \"/home/advance/miniconda3/envs/langsmith/lib/python3.9/site-packages/langsmith/run_helpers.py\", line 568, in wrapper\n",
      "    raise e\n",
      "  File \"/home/advance/miniconda3/envs/langsmith/lib/python3.9/site-packages/langsmith/run_helpers.py\", line 565, in wrapper\n",
      "    function_result = run_container[\"context\"].run(func, *args, **kwargs)\n",
      "  File \"/home/advance/dev/langsmith/evaluators.py\", line 50, in criteria_evaluator\n",
      "    score =llm.ask(system_template)\n",
      "  File \"/home/advance/dev/langsmith/dify_llm.py\", line 93, in ask\n",
      "    return self.handle_sse_response(response)\n",
      "  File \"/home/advance/dev/langsmith/dify_llm.py\", line 82, in handle_sse_response\n",
      "    raise Exception(event)\n",
      "Exception: {'event': 'error', 'conversation_id': '8414a82d-870c-4bae-a771-2bb0f3a5f122', 'message_id': 'b0c1f5f5-29dd-455a-9a34-61d7eba317d6', 'created_at': 1722505589, 'code': 'invalid_param', 'status': 400, 'message': 'Run failed: Node evaluator run failed: [tongyi] Server Unavailable Error, Failed to invoke model qwen-plus, status code: 429, message: id:1\\nevent:error\\n:HTTP_STATUS/429 TOO_MANY_REQUESTS\\ndata:{\"code\":\"Throttling.RateQuota\",\"message\":\"Requests rate limit exceeded, please try again later.\",\"request_id\":\"26cbc838-21e6-9d98-8cb8-a1e6b378aab5\"}\\n\\n'}\n",
      "Error running evaluator <DynamicRunEvaluator criteria_evaluator> on run 0df32c94-9ff5-4014-b2c1-917f93e2cbe0: Exception({'event': 'error', 'conversation_id': 'c6ed1706-d1a9-4535-ac9c-d3900dabb4b4', 'message_id': 'a44112fa-d008-45b1-9b93-ac42d115bd4b', 'created_at': 1722505589, 'code': 'invalid_param', 'status': 400, 'message': 'Run failed: Node evaluator run failed: [tongyi] Server Unavailable Error, Failed to invoke model qwen-plus, status code: 429, message: id:1\\nevent:error\\n:HTTP_STATUS/429 TOO_MANY_REQUESTS\\ndata:{\"code\":\"Throttling.RateQuota\",\"message\":\"Requests rate limit exceeded, please try again later.\",\"request_id\":\"37ac9cef-9433-9044-b950-8ca1d0fcbff2\"}\\n\\n'})\n",
      "Traceback (most recent call last):\n",
      "  File \"/home/advance/miniconda3/envs/langsmith/lib/python3.9/site-packages/langsmith/evaluation/_runner.py\", line 1233, in _run_evaluators\n",
      "    evaluator_response = evaluator.evaluate_run(\n",
      "  File \"/home/advance/miniconda3/envs/langsmith/lib/python3.9/site-packages/langsmith/evaluation/evaluator.py\", line 278, in evaluate_run\n",
      "    result = self.func(\n",
      "  File \"/home/advance/miniconda3/envs/langsmith/lib/python3.9/site-packages/langsmith/run_helpers.py\", line 568, in wrapper\n",
      "    raise e\n",
      "  File \"/home/advance/miniconda3/envs/langsmith/lib/python3.9/site-packages/langsmith/run_helpers.py\", line 565, in wrapper\n",
      "    function_result = run_container[\"context\"].run(func, *args, **kwargs)\n",
      "  File \"/home/advance/dev/langsmith/evaluators.py\", line 50, in criteria_evaluator\n",
      "    score =llm.ask(system_template)\n",
      "  File \"/home/advance/dev/langsmith/dify_llm.py\", line 93, in ask\n",
      "    return self.handle_sse_response(response)\n",
      "  File \"/home/advance/dev/langsmith/dify_llm.py\", line 82, in handle_sse_response\n",
      "    raise Exception(event)\n",
      "Exception: {'event': 'error', 'conversation_id': 'c6ed1706-d1a9-4535-ac9c-d3900dabb4b4', 'message_id': 'a44112fa-d008-45b1-9b93-ac42d115bd4b', 'created_at': 1722505589, 'code': 'invalid_param', 'status': 400, 'message': 'Run failed: Node evaluator run failed: [tongyi] Server Unavailable Error, Failed to invoke model qwen-plus, status code: 429, message: id:1\\nevent:error\\n:HTTP_STATUS/429 TOO_MANY_REQUESTS\\ndata:{\"code\":\"Throttling.RateQuota\",\"message\":\"Requests rate limit exceeded, please try again later.\",\"request_id\":\"37ac9cef-9433-9044-b950-8ca1d0fcbff2\"}\\n\\n'}\n",
      "40it [02:05,  3.89it/s]"
     ]
    },
    {
     "name": "stdout",
     "output_type": "stream",
     "text": [
      "评估器打分：：：： 8\n"
     ]
    },
    {
     "name": "stderr",
     "output_type": "stream",
     "text": [
      "Error running evaluator <DynamicRunEvaluator criteria_evaluator> on run cf8fa272-f17f-4e7b-b3c4-2d7678732c69: Exception({'event': 'error', 'conversation_id': 'a77a34c8-f870-4a4e-a14d-c7268acd97cc', 'message_id': 'e1a8d4ab-3cb8-4ea5-a6df-aca5d0bdade5', 'created_at': 1722505588, 'code': 'invalid_param', 'status': 400, 'message': 'Run failed: Node evaluator run failed: [tongyi] Server Unavailable Error, Failed to invoke model qwen-plus, status code: 429, message: id:1\\nevent:error\\n:HTTP_STATUS/429 TOO_MANY_REQUESTS\\ndata:{\"code\":\"Throttling.RateQuota\",\"message\":\"Requests rate limit exceeded, please try again later.\",\"request_id\":\"4bd1b1f3-5469-92fc-b151-95d527a9e255\"}\\n\\n'})\n",
      "Traceback (most recent call last):\n",
      "  File \"/home/advance/miniconda3/envs/langsmith/lib/python3.9/site-packages/langsmith/evaluation/_runner.py\", line 1233, in _run_evaluators\n",
      "    evaluator_response = evaluator.evaluate_run(\n",
      "  File \"/home/advance/miniconda3/envs/langsmith/lib/python3.9/site-packages/langsmith/evaluation/evaluator.py\", line 278, in evaluate_run\n",
      "    result = self.func(\n",
      "  File \"/home/advance/miniconda3/envs/langsmith/lib/python3.9/site-packages/langsmith/run_helpers.py\", line 568, in wrapper\n",
      "    raise e\n",
      "  File \"/home/advance/miniconda3/envs/langsmith/lib/python3.9/site-packages/langsmith/run_helpers.py\", line 565, in wrapper\n",
      "    function_result = run_container[\"context\"].run(func, *args, **kwargs)\n",
      "  File \"/home/advance/dev/langsmith/evaluators.py\", line 50, in criteria_evaluator\n",
      "    score =llm.ask(system_template)\n",
      "  File \"/home/advance/dev/langsmith/dify_llm.py\", line 93, in ask\n",
      "    return self.handle_sse_response(response)\n",
      "  File \"/home/advance/dev/langsmith/dify_llm.py\", line 82, in handle_sse_response\n",
      "    raise Exception(event)\n",
      "Exception: {'event': 'error', 'conversation_id': 'a77a34c8-f870-4a4e-a14d-c7268acd97cc', 'message_id': 'e1a8d4ab-3cb8-4ea5-a6df-aca5d0bdade5', 'created_at': 1722505588, 'code': 'invalid_param', 'status': 400, 'message': 'Run failed: Node evaluator run failed: [tongyi] Server Unavailable Error, Failed to invoke model qwen-plus, status code: 429, message: id:1\\nevent:error\\n:HTTP_STATUS/429 TOO_MANY_REQUESTS\\ndata:{\"code\":\"Throttling.RateQuota\",\"message\":\"Requests rate limit exceeded, please try again later.\",\"request_id\":\"4bd1b1f3-5469-92fc-b151-95d527a9e255\"}\\n\\n'}\n",
      "42it [02:05,  4.92it/s]Error running evaluator <DynamicRunEvaluator criteria_evaluator> on run 9ea34938-1f6b-4302-ad99-e27098821fbc: Exception({'event': 'error', 'conversation_id': '8a20ad8f-51b1-4e89-8dac-72911a62ffd8', 'message_id': '9d9156bb-043d-4325-8764-e78a44998ae0', 'created_at': 1722505588, 'code': 'invalid_param', 'status': 400, 'message': 'Run failed: Node evaluator run failed: [tongyi] Server Unavailable Error, Failed to invoke model qwen-plus, status code: 429, message: id:1\\nevent:error\\n:HTTP_STATUS/429 TOO_MANY_REQUESTS\\ndata:{\"code\":\"Throttling.RateQuota\",\"message\":\"Requests rate limit exceeded, please try again later.\",\"request_id\":\"ba717522-66ff-9822-a196-c3861e7aadb8\"}\\n\\n'})\n",
      "Traceback (most recent call last):\n",
      "  File \"/home/advance/miniconda3/envs/langsmith/lib/python3.9/site-packages/langsmith/evaluation/_runner.py\", line 1233, in _run_evaluators\n",
      "    evaluator_response = evaluator.evaluate_run(\n",
      "  File \"/home/advance/miniconda3/envs/langsmith/lib/python3.9/site-packages/langsmith/evaluation/evaluator.py\", line 278, in evaluate_run\n",
      "    result = self.func(\n",
      "  File \"/home/advance/miniconda3/envs/langsmith/lib/python3.9/site-packages/langsmith/run_helpers.py\", line 568, in wrapper\n",
      "    raise e\n",
      "  File \"/home/advance/miniconda3/envs/langsmith/lib/python3.9/site-packages/langsmith/run_helpers.py\", line 565, in wrapper\n",
      "    function_result = run_container[\"context\"].run(func, *args, **kwargs)\n",
      "  File \"/home/advance/dev/langsmith/evaluators.py\", line 50, in criteria_evaluator\n",
      "    score =llm.ask(system_template)\n",
      "  File \"/home/advance/dev/langsmith/dify_llm.py\", line 93, in ask\n",
      "    return self.handle_sse_response(response)\n",
      "  File \"/home/advance/dev/langsmith/dify_llm.py\", line 82, in handle_sse_response\n",
      "    raise Exception(event)\n",
      "Exception: {'event': 'error', 'conversation_id': '8a20ad8f-51b1-4e89-8dac-72911a62ffd8', 'message_id': '9d9156bb-043d-4325-8764-e78a44998ae0', 'created_at': 1722505588, 'code': 'invalid_param', 'status': 400, 'message': 'Run failed: Node evaluator run failed: [tongyi] Server Unavailable Error, Failed to invoke model qwen-plus, status code: 429, message: id:1\\nevent:error\\n:HTTP_STATUS/429 TOO_MANY_REQUESTS\\ndata:{\"code\":\"Throttling.RateQuota\",\"message\":\"Requests rate limit exceeded, please try again later.\",\"request_id\":\"ba717522-66ff-9822-a196-c3861e7aadb8\"}\\n\\n'}\n",
      "43it [02:05,  5.30it/s]"
     ]
    },
    {
     "name": "stdout",
     "output_type": "stream",
     "text": [
      "评估器打分：：：： 8\n",
      "评估器打分：：：： 1\n",
      "评估器打分：：：： 8\n"
     ]
    },
    {
     "name": "stderr",
     "output_type": "stream",
     "text": [
      "44it [02:06,  5.12it/s]Error running evaluator <DynamicRunEvaluator criteria_evaluator> on run 2b443b8e-42fd-4a98-b573-afcb6747039c: Exception({'event': 'error', 'conversation_id': 'ff2ce969-3ab2-428c-a21d-13755ecda50e', 'message_id': 'e2d8566f-c5a3-4a87-973a-d73c61457546', 'created_at': 1722505588, 'code': 'invalid_param', 'status': 400, 'message': 'Run failed: Node evaluator run failed: [tongyi] Server Unavailable Error, Failed to invoke model qwen-plus, status code: 429, message: id:1\\nevent:error\\n:HTTP_STATUS/429 TOO_MANY_REQUESTS\\ndata:{\"code\":\"Throttling.RateQuota\",\"message\":\"Requests rate limit exceeded, please try again later.\",\"request_id\":\"b9d210dc-d961-91b4-ab38-65cab2aad4aa\"}\\n\\n'})\n",
      "Traceback (most recent call last):\n",
      "  File \"/home/advance/miniconda3/envs/langsmith/lib/python3.9/site-packages/langsmith/evaluation/_runner.py\", line 1233, in _run_evaluators\n",
      "    evaluator_response = evaluator.evaluate_run(\n",
      "  File \"/home/advance/miniconda3/envs/langsmith/lib/python3.9/site-packages/langsmith/evaluation/evaluator.py\", line 278, in evaluate_run\n",
      "    result = self.func(\n",
      "  File \"/home/advance/miniconda3/envs/langsmith/lib/python3.9/site-packages/langsmith/run_helpers.py\", line 568, in wrapper\n",
      "    raise e\n",
      "  File \"/home/advance/miniconda3/envs/langsmith/lib/python3.9/site-packages/langsmith/run_helpers.py\", line 565, in wrapper\n",
      "    function_result = run_container[\"context\"].run(func, *args, **kwargs)\n",
      "  File \"/home/advance/dev/langsmith/evaluators.py\", line 50, in criteria_evaluator\n",
      "    score =llm.ask(system_template)\n",
      "  File \"/home/advance/dev/langsmith/dify_llm.py\", line 93, in ask\n",
      "    return self.handle_sse_response(response)\n",
      "  File \"/home/advance/dev/langsmith/dify_llm.py\", line 82, in handle_sse_response\n",
      "    raise Exception(event)\n",
      "Exception: {'event': 'error', 'conversation_id': 'ff2ce969-3ab2-428c-a21d-13755ecda50e', 'message_id': 'e2d8566f-c5a3-4a87-973a-d73c61457546', 'created_at': 1722505588, 'code': 'invalid_param', 'status': 400, 'message': 'Run failed: Node evaluator run failed: [tongyi] Server Unavailable Error, Failed to invoke model qwen-plus, status code: 429, message: id:1\\nevent:error\\n:HTTP_STATUS/429 TOO_MANY_REQUESTS\\ndata:{\"code\":\"Throttling.RateQuota\",\"message\":\"Requests rate limit exceeded, please try again later.\",\"request_id\":\"b9d210dc-d961-91b4-ab38-65cab2aad4aa\"}\\n\\n'}\n",
      "Error running evaluator <DynamicRunEvaluator criteria_evaluator> on run 0fd12d9b-938b-47fc-854d-0cdef9780406: Exception({'event': 'error', 'conversation_id': 'd8488acc-5886-4861-b49a-73fe5be3038b', 'message_id': 'f41219db-ecfa-4bbf-be0c-68f0dc753e30', 'created_at': 1722505588, 'code': 'invalid_param', 'status': 400, 'message': 'Run failed: Node evaluator run failed: [tongyi] Server Unavailable Error, Failed to invoke model qwen-plus, status code: 429, message: id:1\\nevent:error\\n:HTTP_STATUS/429 TOO_MANY_REQUESTS\\ndata:{\"code\":\"Throttling.RateQuota\",\"message\":\"Requests rate limit exceeded, please try again later.\",\"request_id\":\"803a4ab4-c2ac-932f-9135-df9b6504eaa6\"}\\n\\n'})\n",
      "Traceback (most recent call last):\n",
      "  File \"/home/advance/miniconda3/envs/langsmith/lib/python3.9/site-packages/langsmith/evaluation/_runner.py\", line 1233, in _run_evaluators\n",
      "    evaluator_response = evaluator.evaluate_run(\n",
      "  File \"/home/advance/miniconda3/envs/langsmith/lib/python3.9/site-packages/langsmith/evaluation/evaluator.py\", line 278, in evaluate_run\n",
      "    result = self.func(\n",
      "  File \"/home/advance/miniconda3/envs/langsmith/lib/python3.9/site-packages/langsmith/run_helpers.py\", line 568, in wrapper\n",
      "    raise e\n",
      "  File \"/home/advance/miniconda3/envs/langsmith/lib/python3.9/site-packages/langsmith/run_helpers.py\", line 565, in wrapper\n",
      "    function_result = run_container[\"context\"].run(func, *args, **kwargs)\n",
      "  File \"/home/advance/dev/langsmith/evaluators.py\", line 50, in criteria_evaluator\n",
      "    score =llm.ask(system_template)\n",
      "  File \"/home/advance/dev/langsmith/dify_llm.py\", line 93, in ask\n",
      "    return self.handle_sse_response(response)\n",
      "  File \"/home/advance/dev/langsmith/dify_llm.py\", line 82, in handle_sse_response\n",
      "    raise Exception(event)\n",
      "Exception: {'event': 'error', 'conversation_id': 'd8488acc-5886-4861-b49a-73fe5be3038b', 'message_id': 'f41219db-ecfa-4bbf-be0c-68f0dc753e30', 'created_at': 1722505588, 'code': 'invalid_param', 'status': 400, 'message': 'Run failed: Node evaluator run failed: [tongyi] Server Unavailable Error, Failed to invoke model qwen-plus, status code: 429, message: id:1\\nevent:error\\n:HTTP_STATUS/429 TOO_MANY_REQUESTS\\ndata:{\"code\":\"Throttling.RateQuota\",\"message\":\"Requests rate limit exceeded, please try again later.\",\"request_id\":\"803a4ab4-c2ac-932f-9135-df9b6504eaa6\"}\\n\\n'}\n",
      "46it [02:06,  6.16it/s]Error running evaluator <DynamicRunEvaluator criteria_evaluator> on run 29772ec4-08ab-4389-93fd-791052f7207e: Exception({'event': 'error', 'conversation_id': '5f28c5f7-8be7-470a-9b90-b0be346e4694', 'message_id': 'd00c7cc0-f3e0-4502-86ef-daa7de261985', 'created_at': 1722505591, 'code': 'invalid_param', 'status': 400, 'message': 'Run failed: Node evaluator run failed: [tongyi] Server Unavailable Error, Failed to invoke model qwen-plus, status code: 429, message: id:1\\nevent:error\\n:HTTP_STATUS/429 TOO_MANY_REQUESTS\\ndata:{\"code\":\"Throttling.RateQuota\",\"message\":\"Requests rate limit exceeded, please try again later.\",\"request_id\":\"c0f4b17f-c0f9-9bd1-a4c5-969620aadefd\"}\\n\\n'})\n",
      "Traceback (most recent call last):\n",
      "  File \"/home/advance/miniconda3/envs/langsmith/lib/python3.9/site-packages/langsmith/evaluation/_runner.py\", line 1233, in _run_evaluators\n",
      "    evaluator_response = evaluator.evaluate_run(\n",
      "  File \"/home/advance/miniconda3/envs/langsmith/lib/python3.9/site-packages/langsmith/evaluation/evaluator.py\", line 278, in evaluate_run\n",
      "    result = self.func(\n",
      "  File \"/home/advance/miniconda3/envs/langsmith/lib/python3.9/site-packages/langsmith/run_helpers.py\", line 568, in wrapper\n",
      "    raise e\n",
      "  File \"/home/advance/miniconda3/envs/langsmith/lib/python3.9/site-packages/langsmith/run_helpers.py\", line 565, in wrapper\n",
      "    function_result = run_container[\"context\"].run(func, *args, **kwargs)\n",
      "  File \"/home/advance/dev/langsmith/evaluators.py\", line 50, in criteria_evaluator\n",
      "    score =llm.ask(system_template)\n",
      "  File \"/home/advance/dev/langsmith/dify_llm.py\", line 93, in ask\n",
      "    return self.handle_sse_response(response)\n",
      "  File \"/home/advance/dev/langsmith/dify_llm.py\", line 82, in handle_sse_response\n",
      "    raise Exception(event)\n",
      "Exception: {'event': 'error', 'conversation_id': '5f28c5f7-8be7-470a-9b90-b0be346e4694', 'message_id': 'd00c7cc0-f3e0-4502-86ef-daa7de261985', 'created_at': 1722505591, 'code': 'invalid_param', 'status': 400, 'message': 'Run failed: Node evaluator run failed: [tongyi] Server Unavailable Error, Failed to invoke model qwen-plus, status code: 429, message: id:1\\nevent:error\\n:HTTP_STATUS/429 TOO_MANY_REQUESTS\\ndata:{\"code\":\"Throttling.RateQuota\",\"message\":\"Requests rate limit exceeded, please try again later.\",\"request_id\":\"c0f4b17f-c0f9-9bd1-a4c5-969620aadefd\"}\\n\\n'}\n"
     ]
    },
    {
     "name": "stdout",
     "output_type": "stream",
     "text": [
      "评估器打分：：：： 7\n",
      "评估器打分：：：： 8\n"
     ]
    },
    {
     "name": "stderr",
     "output_type": "stream",
     "text": [
      "51it [02:07,  6.57it/s]Error running evaluator <DynamicRunEvaluator criteria_evaluator> on run 2807d71b-40cb-4e03-a0fa-d988c88216bd: Exception({'event': 'error', 'conversation_id': '25c08c1c-dc5a-49c0-98af-22eaa70c906c', 'message_id': '42320e66-eed9-462f-91c0-0f5e85eb5c87', 'created_at': 1722505588, 'code': 'invalid_param', 'status': 400, 'message': 'Run failed: Node evaluator run failed: [tongyi] Server Unavailable Error, Failed to invoke model qwen-plus, status code: 429, message: id:1\\nevent:error\\n:HTTP_STATUS/429 TOO_MANY_REQUESTS\\ndata:{\"code\":\"Throttling.RateQuota\",\"message\":\"Requests rate limit exceeded, please try again later.\",\"request_id\":\"cad59552-8dd3-96e7-a6a3-114712187a38\"}\\n\\n'})\n",
      "Traceback (most recent call last):\n",
      "  File \"/home/advance/miniconda3/envs/langsmith/lib/python3.9/site-packages/langsmith/evaluation/_runner.py\", line 1233, in _run_evaluators\n",
      "    evaluator_response = evaluator.evaluate_run(\n",
      "  File \"/home/advance/miniconda3/envs/langsmith/lib/python3.9/site-packages/langsmith/evaluation/evaluator.py\", line 278, in evaluate_run\n",
      "    result = self.func(\n",
      "  File \"/home/advance/miniconda3/envs/langsmith/lib/python3.9/site-packages/langsmith/run_helpers.py\", line 568, in wrapper\n",
      "    raise e\n",
      "  File \"/home/advance/miniconda3/envs/langsmith/lib/python3.9/site-packages/langsmith/run_helpers.py\", line 565, in wrapper\n",
      "    function_result = run_container[\"context\"].run(func, *args, **kwargs)\n",
      "  File \"/home/advance/dev/langsmith/evaluators.py\", line 50, in criteria_evaluator\n",
      "    score =llm.ask(system_template)\n",
      "  File \"/home/advance/dev/langsmith/dify_llm.py\", line 93, in ask\n",
      "    return self.handle_sse_response(response)\n",
      "  File \"/home/advance/dev/langsmith/dify_llm.py\", line 82, in handle_sse_response\n",
      "    raise Exception(event)\n",
      "Exception: {'event': 'error', 'conversation_id': '25c08c1c-dc5a-49c0-98af-22eaa70c906c', 'message_id': '42320e66-eed9-462f-91c0-0f5e85eb5c87', 'created_at': 1722505588, 'code': 'invalid_param', 'status': 400, 'message': 'Run failed: Node evaluator run failed: [tongyi] Server Unavailable Error, Failed to invoke model qwen-plus, status code: 429, message: id:1\\nevent:error\\n:HTTP_STATUS/429 TOO_MANY_REQUESTS\\ndata:{\"code\":\"Throttling.RateQuota\",\"message\":\"Requests rate limit exceeded, please try again later.\",\"request_id\":\"cad59552-8dd3-96e7-a6a3-114712187a38\"}\\n\\n'}\n",
      "53it [02:08,  2.42s/it]\n"
     ]
    },
    {
     "data": {
      "text/plain": [
       "<ExperimentResults xbz-1-6aa43a70>"
      ]
     },
     "execution_count": 5,
     "metadata": {},
     "output_type": "execute_result"
    }
   ],
   "source": [
    "# Evaluators\n",
    "from langsmith.schemas import Example, Run\n",
    "from langsmith.evaluation import evaluate\n",
    "from evaluators import criteria_evaluator\n",
    "\n",
    "evaluate(\n",
    "    answer_xbz_question_dify_agent,\n",
    "    data=dataset_name,\n",
    "    evaluators=[criteria_evaluator],\n",
    "    experiment_prefix=\"xbz-1\",\n",
    ")\n",
    "\n",
    "\n",
    "# from langsmith.evaluation import evaluate, LangChainStringEvaluator\n",
    "# qa_evalulator = [LangChainStringEvaluator(\"cot_qa\")]\n"
   ]
  },
  {
   "cell_type": "markdown",
   "metadata": {},
   "source": []
  }
 ],
 "metadata": {
  "kernelspec": {
   "display_name": "langsmith",
   "language": "python",
   "name": "python3"
  },
  "language_info": {
   "codemirror_mode": {
    "name": "ipython",
    "version": 3
   },
   "file_extension": ".py",
   "mimetype": "text/x-python",
   "name": "python",
   "nbconvert_exporter": "python",
   "pygments_lexer": "ipython3",
   "version": "3.9.0"
  }
 },
 "nbformat": 4,
 "nbformat_minor": 2
}
